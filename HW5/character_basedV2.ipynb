{
  "nbformat": 4,
  "nbformat_minor": 0,
  "metadata": {
    "accelerator": "GPU",
    "colab": {
      "name": "character_basedV2.ipynb",
      "provenance": [],
      "collapsed_sections": []
    },
    "kernelspec": {
      "display_name": "Python 3",
      "name": "python3"
    },
    "language_info": {
      "name": "python"
    }
  },
  "cells": [
    {
      "cell_type": "code",
      "metadata": {
        "id": "6K8xp1RDHE8D"
      },
      "source": [
        "import tensorflow as tf\n",
        "from tensorflow.keras.layers.experimental import preprocessing\n",
        "\n",
        "import numpy as np\n",
        "import os, glob\n",
        "import time\n",
        "from sklearn.model_selection import train_test_split"
      ],
      "execution_count": null,
      "outputs": []
    },
    {
      "cell_type": "code",
      "metadata": {
        "colab": {
          "base_uri": "https://localhost:8080/"
        },
        "id": "GG5DTtk2MtpW",
        "outputId": "fb270cac-45af-4cf3-b74d-5b9e9a6f91d2"
      },
      "source": [
        "from google.colab import drive\n",
        "drive.mount('/content/drive')"
      ],
      "execution_count": null,
      "outputs": [
        {
          "output_type": "stream",
          "text": [
            "Mounted at /content/drive\n"
          ],
          "name": "stdout"
        }
      ]
    },
    {
      "cell_type": "markdown",
      "metadata": {
        "id": "GZ6YRwATRBg3"
      },
      "source": [
        "Import Dataset"
      ]
    },
    {
      "cell_type": "code",
      "metadata": {
        "colab": {
          "base_uri": "https://localhost:8080/"
        },
        "id": "AWOtp7h1JoWA",
        "outputId": "6dd523be-8720-4ec3-8a7d-636f1f2fc351"
      },
      "source": [
        "texts = []\n",
        "for path in glob.glob(\"drive/MyDrive/dataset/HW5/shahname/*.txt\"):\n",
        "  text = open(path, 'rb').read().decode(encoding='utf-8')\n",
        "  texts.append(text)\n",
        "texts = np.array(texts)\n",
        "texts, texts_test = train_test_split(texts, train_size=0.9, random_state=22)\n",
        "print(texts.shape)\n",
        "print(texts_test.shape)"
      ],
      "execution_count": null,
      "outputs": [
        {
          "output_type": "stream",
          "text": [
            "(561,)\n",
            "(63,)\n"
          ],
          "name": "stdout"
        }
      ]
    },
    {
      "cell_type": "code",
      "metadata": {
        "id": "S6dHs5vhM-RD"
      },
      "source": [
        "texts = \" \".join(texts)\n",
        "seq_length = 250\n",
        "texts = [texts[0+i:seq_length+i] for i in range(0, len(texts), seq_length)]\n",
        "del texts[-1]\n",
        "texts = np.array(texts)"
      ],
      "execution_count": null,
      "outputs": []
    },
    {
      "cell_type": "markdown",
      "metadata": {
        "id": "gCkVJK5RRVFz"
      },
      "source": [
        "Find Number of Unique Characters"
      ]
    },
    {
      "cell_type": "code",
      "metadata": {
        "colab": {
          "base_uri": "https://localhost:8080/"
        },
        "id": "qf1NgO41Rrop",
        "outputId": "41d7a5c4-09d8-4f36-b22f-dce1fb7739ef"
      },
      "source": [
        "vocab = open(\"drive/MyDrive/dataset/HW5/allShahnameWords.txt\", 'rb').read().decode(encoding='utf-8')\n",
        "unique = [\" \",\"\\t\"]\n",
        "for char in vocab[::]:\n",
        "    if char not in unique:\n",
        "        unique.append(char)\n",
        "\n",
        "print(sorted(unique))\n",
        "print(len(unique))\n"
      ],
      "execution_count": null,
      "outputs": [
        {
          "output_type": "stream",
          "text": [
            "['\\t', '\\n', ' ', '(', ')', '«', '»', '،', '؟', 'ء', 'آ', 'أ', 'ؤ', 'ئ', 'ا', 'ب', 'ت', 'ث', 'ج', 'ح', 'خ', 'د', 'ذ', 'ر', 'ز', 'س', 'ش', 'ص', 'ض', 'ط', 'ظ', 'ع', 'غ', 'ف', 'ق', 'ل', 'م', 'ن', 'ه', 'و', 'ٔ', 'پ', 'چ', 'ژ', 'ک', 'گ', 'ی', '\\u200c']\n",
            "48\n"
          ],
          "name": "stdout"
        }
      ]
    },
    {
      "cell_type": "markdown",
      "metadata": {
        "id": "L0-KcjmdYEYM"
      },
      "source": [
        "Vectorize the text"
      ]
    },
    {
      "cell_type": "code",
      "metadata": {
        "id": "L5oak2jrYFSv"
      },
      "source": [
        "ids_from_chars = preprocessing.StringLookup(vocabulary=unique, mask_token=None)\n",
        "\n",
        "chars_from_ids = tf.keras.layers.experimental.preprocessing.StringLookup(\n",
        "    vocabulary=ids_from_chars.get_vocabulary(), invert=True, mask_token=None)\n",
        "\n",
        "def text_from_ids(ids):\n",
        "  return tf.strings.reduce_join(chars_from_ids(ids), axis=-1)"
      ],
      "execution_count": null,
      "outputs": []
    },
    {
      "cell_type": "markdown",
      "metadata": {
        "id": "zmL46b58bBrx"
      },
      "source": [
        "Create training examples and targets"
      ]
    },
    {
      "cell_type": "code",
      "metadata": {
        "id": "l0mTy7dEbCmA"
      },
      "source": [
        "all_ids = []\n",
        "for text in texts:\n",
        "  text = ids_from_chars(tf.strings.unicode_split(text, 'UTF-8'))\n",
        "  all_ids.append(text)\n",
        "all_ids = np.array(all_ids)\n",
        "\n",
        "test_ids = []\n",
        "for text in texts_test:\n",
        "  text = ids_from_chars(tf.strings.unicode_split(text, 'UTF-8'))\n",
        "  test_ids.append(text)"
      ],
      "execution_count": null,
      "outputs": []
    },
    {
      "cell_type": "code",
      "metadata": {
        "id": "E0GaRi08e4lv"
      },
      "source": [
        "def split_input_target(sequence):\n",
        "    input_text = sequence[:-1]\n",
        "    target_text = sequence[1:]\n",
        "    return input_text, target_text\n",
        "\n",
        "X = []\n",
        "Y = []\n",
        "for row in all_ids:\n",
        "  x,y = split_input_target(row)\n",
        "  X.append(x)\n",
        "  Y.append(y)\n",
        "X = np.array(X)\n",
        "Y = np.array(Y)\n",
        "\n",
        "X, X_valid, Y, Y_valid = train_test_split(X, Y, train_size=0.75, random_state=22)\n",
        "\n",
        "dataset = tf.data.Dataset.from_tensor_slices((X,Y))\n",
        "\n",
        "val_dataset = tf.data.Dataset.from_tensor_slices((X_valid,Y_valid))\n",
        "BATCH_SIZE = 64\n",
        "BUFFER_SIZE = 10000\n",
        "\n",
        "dataset = (\n",
        "    dataset\n",
        "    .shuffle(BUFFER_SIZE)\n",
        "    .batch(BATCH_SIZE, drop_remainder=True)\n",
        "    .prefetch(tf.data.experimental.AUTOTUNE))\n",
        "\n",
        "val_dataset = (\n",
        "    val_dataset\n",
        "    .shuffle(BUFFER_SIZE)\n",
        "    .batch(BATCH_SIZE, drop_remainder=True)\n",
        "    .prefetch(tf.data.experimental.AUTOTUNE))\n"
      ],
      "execution_count": null,
      "outputs": []
    },
    {
      "cell_type": "markdown",
      "metadata": {
        "id": "3_1xVKPHoylQ"
      },
      "source": [
        "Build The Model"
      ]
    },
    {
      "cell_type": "code",
      "metadata": {
        "id": "gSl9Th0qo3BJ"
      },
      "source": [
        "vocab_size = len(unique)\n",
        "\n",
        "embedding_dim = 64\n",
        "\n",
        "rnn_units = 1024"
      ],
      "execution_count": null,
      "outputs": []
    },
    {
      "cell_type": "code",
      "metadata": {
        "id": "k0JjKizJpVgK"
      },
      "source": [
        "class MyModel(tf.keras.Model):\n",
        "  def __init__(self, vocab_size, embedding_dim, rnn_units):\n",
        "    super().__init__(self)\n",
        "    self.embedding = tf.keras.layers.Embedding(vocab_size, embedding_dim)\n",
        "    self.lstm = tf.keras.layers.LSTM(rnn_units,\n",
        "                                   return_sequences=True,\n",
        "                                   return_state=True)\n",
        "    self.dense = tf.keras.layers.Dense(vocab_size)\n",
        "\n",
        "  def call(self, inputs, states=[None,None], return_state=False, training=False):\n",
        "    x = inputs\n",
        "    x = self.embedding(x, training=training)\n",
        "    if states[0] is None:\n",
        "      mStates, cStates = self.lstm.get_initial_state(x)\n",
        "    else:\n",
        "      mStates, cStates = states[0], states[1]\n",
        "    x, mStates, cStates = self.lstm(x, initial_state=[mStates, cStates], training=training)\n",
        "    x = self.dense(x, training=training)\n",
        "\n",
        "    if return_state:\n",
        "      return x, mStates, cStates\n",
        "    else:\n",
        "      return x\n",
        "\n",
        "\n",
        "model = MyModel(\n",
        "    # Be sure the vocabulary size matches the `StringLookup` layers.\n",
        "    vocab_size=len(ids_from_chars.get_vocabulary()),\n",
        "    embedding_dim=embedding_dim,\n",
        "    rnn_units=rnn_units)"
      ],
      "execution_count": null,
      "outputs": []
    },
    {
      "cell_type": "code",
      "metadata": {
        "id": "W1nrTVz3qmIw",
        "colab": {
          "base_uri": "https://localhost:8080/"
        },
        "outputId": "5a6b1c2c-9ac5-4ba2-ee00-cd5fa12a12db"
      },
      "source": [
        "for input_example_batch, target_example_batch in dataset.take(1):\n",
        "    example_batch_predictions = model(input_example_batch)\n",
        "    print(example_batch_predictions.shape, \"# (batch_size, sequence_length, vocab_size)\")\n",
        "\n",
        "sampled_indices = tf.random.categorical(example_batch_predictions[0], num_samples=1)\n",
        "sampled_indices = tf.squeeze(sampled_indices, axis=-1).numpy()\n",
        "sampled_indices\n",
        "\n",
        "print(\"Input:\\n\", text_from_ids(input_example_batch[0]).numpy().decode('UTF-8'))\n",
        "print()\n",
        "print(\"Next Char Predictions:\\n\", text_from_ids(sampled_indices).numpy().decode('UTF-8'))"
      ],
      "execution_count": null,
      "outputs": [
        {
          "output_type": "stream",
          "text": [
            "(64, 249, 49) # (batch_size, sequence_length, vocab_size)\n",
            "Input:\n",
            " وی\n",
            "ازان پس بپرسید و بنواختش\tیکی نامور جایگه ساختش\n",
            " چو آمد به نزدیکی هیرمند\tفرستاده‌ای برگزید ارجمند\n",
            "فرستاد نزدیک دستان سام\tبدادش ز هر گونه چندی پیام\n",
            "چنین گفت کز کین اسفندیار\tمرا تلخ شد در جهان روزگار\n",
            "هم از کین نوش‌آذر و مهر نوش\tدو شاه گرامی دو فرخ س\n",
            "\n",
            "Next Char Predictions:\n",
            " (عقأغ‌دشچعصتح\n",
            "بخضچغجیٔد‌ل(عچٔ)دٔهآاطئیظقجتصپطظضرخثهثقرض)ب(عج\n",
            "ئوغؤکپز(»ش»طوزضر»ر[UNK]ؤعنشکیغ«(\n",
            "طپآن[UNK](؟ی‌جقژ(( قنپکد\tئوبصزئذشصیرٔ\t،قثیط(ژغز«ف[UNK][UNK]قظ،شخر[UNK]»(قجنجویچد[UNK]جگ[UNK]یچ؟«ظظ«ش‌خخو‌مهیگحؤحنهنمچدوث»[UNK]ئخی«خمتظبضوس\tرغهرب»قچچ\n",
            "عسسگدکخصل‌بمغصف؟[UNK]‌به و\tآکٔصضظسوی؟هرنه‌\n"
          ],
          "name": "stdout"
        }
      ]
    },
    {
      "cell_type": "code",
      "metadata": {
        "id": "eySgoYAbm2ef"
      },
      "source": [
        "tf.keras.backend.clear_session()"
      ],
      "execution_count": null,
      "outputs": []
    },
    {
      "cell_type": "markdown",
      "metadata": {
        "id": "hrbGRDRQijn1"
      },
      "source": [
        "Train the model"
      ]
    },
    {
      "cell_type": "code",
      "metadata": {
        "id": "_AlEKqEDvX8S",
        "colab": {
          "base_uri": "https://localhost:8080/"
        },
        "outputId": "fcef3a85-d43b-420b-b1a5-a055673c0e9f"
      },
      "source": [
        "loss = tf.losses.SparseCategoricalCrossentropy(from_logits=True)\n",
        "model.compile(optimizer='adam', loss=loss, metrics=['accuracy'])\n",
        "# Directory where the checkpoints will be saved\n",
        "checkpoint_dir = './training_checkpoints'\n",
        "# Name of the checkpoint files\n",
        "checkpoint_prefix = os.path.join(checkpoint_dir, \"ckpt_{epoch}\")\n",
        "\n",
        "checkpoint_callback = tf.keras.callbacks.ModelCheckpoint(\n",
        "    filepath=checkpoint_prefix,\n",
        "    save_weights_only=True)\n",
        "\n",
        "EPOCHS = 50\n",
        "history = model.fit(dataset, epochs=EPOCHS, validation_data=val_dataset)"
      ],
      "execution_count": null,
      "outputs": [
        {
          "output_type": "stream",
          "text": [
            "Epoch 1/50\n",
            "105/105 [==============================] - 18s 160ms/step - loss: 2.9613 - accuracy: 0.1845 - val_loss: 2.6855 - val_accuracy: 0.2561\n",
            "Epoch 2/50\n",
            "105/105 [==============================] - 17s 161ms/step - loss: 2.5210 - accuracy: 0.2860 - val_loss: 2.4178 - val_accuracy: 0.3024\n",
            "Epoch 3/50\n",
            "105/105 [==============================] - 17s 164ms/step - loss: 2.3570 - accuracy: 0.3134 - val_loss: 2.2757 - val_accuracy: 0.3307\n",
            "Epoch 4/50\n",
            "105/105 [==============================] - 18s 168ms/step - loss: 2.1923 - accuracy: 0.3532 - val_loss: 2.0686 - val_accuracy: 0.3854\n",
            "Epoch 5/50\n",
            "105/105 [==============================] - 18s 170ms/step - loss: 1.9655 - accuracy: 0.4143 - val_loss: 1.8733 - val_accuracy: 0.4416\n",
            "Epoch 6/50\n",
            "105/105 [==============================] - 18s 170ms/step - loss: 1.8024 - accuracy: 0.4639 - val_loss: 1.7355 - val_accuracy: 0.4854\n",
            "Epoch 7/50\n",
            "105/105 [==============================] - 18s 172ms/step - loss: 1.6732 - accuracy: 0.5048 - val_loss: 1.6180 - val_accuracy: 0.5200\n",
            "Epoch 8/50\n",
            "105/105 [==============================] - 18s 175ms/step - loss: 1.5732 - accuracy: 0.5316 - val_loss: 1.5470 - val_accuracy: 0.5388\n",
            "Epoch 9/50\n",
            "105/105 [==============================] - 18s 176ms/step - loss: 1.5006 - accuracy: 0.5510 - val_loss: 1.4850 - val_accuracy: 0.5558\n",
            "Epoch 10/50\n",
            "105/105 [==============================] - 19s 177ms/step - loss: 1.4438 - accuracy: 0.5666 - val_loss: 1.4365 - val_accuracy: 0.5695\n",
            "Epoch 11/50\n",
            "105/105 [==============================] - 19s 180ms/step - loss: 1.3974 - accuracy: 0.5788 - val_loss: 1.4027 - val_accuracy: 0.5792\n",
            "Epoch 12/50\n",
            "105/105 [==============================] - 19s 179ms/step - loss: 1.3584 - accuracy: 0.5895 - val_loss: 1.3754 - val_accuracy: 0.5862\n",
            "Epoch 13/50\n",
            "105/105 [==============================] - 19s 178ms/step - loss: 1.3249 - accuracy: 0.5986 - val_loss: 1.3486 - val_accuracy: 0.5934\n",
            "Epoch 14/50\n",
            "105/105 [==============================] - 19s 178ms/step - loss: 1.2953 - accuracy: 0.6064 - val_loss: 1.3287 - val_accuracy: 0.5990\n",
            "Epoch 15/50\n",
            "105/105 [==============================] - 19s 179ms/step - loss: 1.2670 - accuracy: 0.6147 - val_loss: 1.3153 - val_accuracy: 0.6024\n",
            "Epoch 16/50\n",
            "105/105 [==============================] - 19s 178ms/step - loss: 1.2402 - accuracy: 0.6222 - val_loss: 1.3013 - val_accuracy: 0.6069\n",
            "Epoch 17/50\n",
            "105/105 [==============================] - 19s 178ms/step - loss: 1.2148 - accuracy: 0.6295 - val_loss: 1.2885 - val_accuracy: 0.6108\n",
            "Epoch 18/50\n",
            "105/105 [==============================] - 19s 179ms/step - loss: 1.1909 - accuracy: 0.6364 - val_loss: 1.2800 - val_accuracy: 0.6139\n",
            "Epoch 19/50\n",
            "105/105 [==============================] - 19s 179ms/step - loss: 1.1673 - accuracy: 0.6430 - val_loss: 1.2726 - val_accuracy: 0.6161\n",
            "Epoch 20/50\n",
            "105/105 [==============================] - 19s 178ms/step - loss: 1.1438 - accuracy: 0.6499 - val_loss: 1.2683 - val_accuracy: 0.6171\n",
            "Epoch 21/50\n",
            "105/105 [==============================] - 19s 179ms/step - loss: 1.1209 - accuracy: 0.6566 - val_loss: 1.2648 - val_accuracy: 0.6201\n",
            "Epoch 22/50\n",
            "105/105 [==============================] - 19s 180ms/step - loss: 1.0970 - accuracy: 0.6639 - val_loss: 1.2639 - val_accuracy: 0.6198\n",
            "Epoch 23/50\n",
            "105/105 [==============================] - 19s 179ms/step - loss: 1.0719 - accuracy: 0.6713 - val_loss: 1.2670 - val_accuracy: 0.6211\n",
            "Epoch 24/50\n",
            "105/105 [==============================] - 19s 178ms/step - loss: 1.0476 - accuracy: 0.6785 - val_loss: 1.2683 - val_accuracy: 0.6225\n",
            "Epoch 25/50\n",
            "105/105 [==============================] - 19s 179ms/step - loss: 1.0220 - accuracy: 0.6864 - val_loss: 1.2727 - val_accuracy: 0.6205\n",
            "Epoch 26/50\n",
            "105/105 [==============================] - 19s 178ms/step - loss: 0.9960 - accuracy: 0.6942 - val_loss: 1.2805 - val_accuracy: 0.6193\n",
            "Epoch 27/50\n",
            "105/105 [==============================] - 19s 179ms/step - loss: 0.9680 - accuracy: 0.7031 - val_loss: 1.2936 - val_accuracy: 0.6194\n",
            "Epoch 28/50\n",
            "105/105 [==============================] - 19s 180ms/step - loss: 0.9398 - accuracy: 0.7113 - val_loss: 1.3016 - val_accuracy: 0.6177\n",
            "Epoch 29/50\n",
            "105/105 [==============================] - 19s 179ms/step - loss: 0.9111 - accuracy: 0.7205 - val_loss: 1.3160 - val_accuracy: 0.6157\n",
            "Epoch 30/50\n",
            "105/105 [==============================] - 19s 178ms/step - loss: 0.8798 - accuracy: 0.7302 - val_loss: 1.3323 - val_accuracy: 0.6154\n",
            "Epoch 31/50\n",
            "105/105 [==============================] - 19s 177ms/step - loss: 0.8485 - accuracy: 0.7399 - val_loss: 1.3525 - val_accuracy: 0.6115\n",
            "Epoch 32/50\n",
            "105/105 [==============================] - 19s 179ms/step - loss: 0.8154 - accuracy: 0.7505 - val_loss: 1.3721 - val_accuracy: 0.6109\n",
            "Epoch 33/50\n",
            "105/105 [==============================] - 19s 180ms/step - loss: 0.7825 - accuracy: 0.7611 - val_loss: 1.3974 - val_accuracy: 0.6093\n",
            "Epoch 34/50\n",
            "105/105 [==============================] - 19s 178ms/step - loss: 0.7482 - accuracy: 0.7722 - val_loss: 1.4252 - val_accuracy: 0.6052\n",
            "Epoch 35/50\n",
            "105/105 [==============================] - 19s 178ms/step - loss: 0.7151 - accuracy: 0.7827 - val_loss: 1.4494 - val_accuracy: 0.6046\n",
            "Epoch 36/50\n",
            "105/105 [==============================] - 19s 180ms/step - loss: 0.6818 - accuracy: 0.7934 - val_loss: 1.4859 - val_accuracy: 0.6019\n",
            "Epoch 37/50\n",
            "105/105 [==============================] - 19s 180ms/step - loss: 0.6480 - accuracy: 0.8045 - val_loss: 1.5141 - val_accuracy: 0.5997\n",
            "Epoch 38/50\n",
            "105/105 [==============================] - 19s 180ms/step - loss: 0.6137 - accuracy: 0.8155 - val_loss: 1.5503 - val_accuracy: 0.5960\n",
            "Epoch 39/50\n",
            "105/105 [==============================] - 19s 180ms/step - loss: 0.5832 - accuracy: 0.8249 - val_loss: 1.5866 - val_accuracy: 0.5941\n",
            "Epoch 40/50\n",
            "105/105 [==============================] - 19s 178ms/step - loss: 0.5506 - accuracy: 0.8362 - val_loss: 1.6216 - val_accuracy: 0.5913\n",
            "Epoch 41/50\n",
            "105/105 [==============================] - 19s 178ms/step - loss: 0.5251 - accuracy: 0.8435 - val_loss: 1.6548 - val_accuracy: 0.5914\n",
            "Epoch 42/50\n",
            "105/105 [==============================] - 19s 180ms/step - loss: 0.4975 - accuracy: 0.8526 - val_loss: 1.6952 - val_accuracy: 0.5886\n",
            "Epoch 43/50\n",
            "105/105 [==============================] - 19s 180ms/step - loss: 0.4679 - accuracy: 0.8624 - val_loss: 1.7343 - val_accuracy: 0.5877\n",
            "Epoch 44/50\n",
            "105/105 [==============================] - 19s 180ms/step - loss: 0.4442 - accuracy: 0.8696 - val_loss: 1.7753 - val_accuracy: 0.5860\n",
            "Epoch 45/50\n",
            "105/105 [==============================] - 19s 179ms/step - loss: 0.4213 - accuracy: 0.8768 - val_loss: 1.8146 - val_accuracy: 0.5843\n",
            "Epoch 46/50\n",
            "105/105 [==============================] - 19s 179ms/step - loss: 0.4036 - accuracy: 0.8817 - val_loss: 1.8498 - val_accuracy: 0.5833\n",
            "Epoch 47/50\n",
            "105/105 [==============================] - 19s 182ms/step - loss: 0.3774 - accuracy: 0.8907 - val_loss: 1.8911 - val_accuracy: 0.5838\n",
            "Epoch 48/50\n",
            "105/105 [==============================] - 19s 179ms/step - loss: 0.3597 - accuracy: 0.8959 - val_loss: 1.9312 - val_accuracy: 0.5817\n",
            "Epoch 49/50\n",
            "105/105 [==============================] - 19s 180ms/step - loss: 0.3443 - accuracy: 0.9004 - val_loss: 1.9696 - val_accuracy: 0.5806\n",
            "Epoch 50/50\n",
            "105/105 [==============================] - 19s 179ms/step - loss: 0.3299 - accuracy: 0.9045 - val_loss: 2.0015 - val_accuracy: 0.5806\n"
          ],
          "name": "stdout"
        }
      ]
    },
    {
      "cell_type": "code",
      "metadata": {
        "colab": {
          "base_uri": "https://localhost:8080/",
          "height": 295
        },
        "id": "4Sh2DXWGdQBf",
        "outputId": "088433e6-7099-46f1-9e39-d43fa10d7930"
      },
      "source": [
        "plt.plot(history.history['accuracy'])\n",
        "plt.plot(history.history['val_accuracy'])\n",
        "plt.title('model accuracy')\n",
        "plt.ylabel('accuracy')\n",
        "plt.xlabel('epoch')\n",
        "plt.legend(['train', 'validation'], loc='upper left')\n",
        "plt.show()\n"
      ],
      "execution_count": null,
      "outputs": [
        {
          "output_type": "display_data",
          "data": {
            "image/png": "[encoded data removed]",
            "text/plain": [
              "<Figure size 432x288 with 1 Axes>"
            ]
          },
          "metadata": {
            "tags": [],
            "needs_background": "light"
          }
        }
      ]
    },
    {
      "cell_type": "markdown",
      "metadata": {
        "id": "8RVLBrkmjYPu"
      },
      "source": [
        "Generate text"
      ]
    },
    {
      "cell_type": "code",
      "metadata": {
        "id": "FvJOOc2ljVB8"
      },
      "source": [
        "class OneStep(tf.keras.Model):\n",
        "  def __init__(self, model, chars_from_ids, ids_from_chars, temperature=0.3):\n",
        "    super().__init__()\n",
        "    self.temperature = temperature\n",
        "    self.model = model\n",
        "    self.chars_from_ids = chars_from_ids\n",
        "    self.ids_from_chars = ids_from_chars\n",
        "\n",
        "    # Create a mask to prevent \"[UNK]\" from being generated.\n",
        "    skip_ids = self.ids_from_chars(['[UNK]'])[:, None]\n",
        "    sparse_mask = tf.SparseTensor(\n",
        "        # Put a -inf at each bad index.\n",
        "        values=[-float('inf')]*len(skip_ids),\n",
        "        indices=skip_ids,\n",
        "        # Match the shape to the vocabulary\n",
        "        dense_shape=[len(ids_from_chars.get_vocabulary())])\n",
        "    self.prediction_mask = tf.sparse.to_dense(sparse_mask)\n",
        "\n",
        "  @tf.function\n",
        "  def generate_one_step(self, inputs, states=[None,None]):\n",
        "    # Convert strings to token IDs.\n",
        "    input_chars = tf.strings.unicode_split(inputs, 'UTF-8')\n",
        "    input_ids = self.ids_from_chars(input_chars).to_tensor()\n",
        "\n",
        "    # Run the model.\n",
        "    # predicted_logits.shape is [batch, char, next_char_logits]\n",
        "    mStates, cStates = None, None\n",
        "    predicted_logits, mStates, cStates = self.model(inputs=input_ids, states=states,\n",
        "                                          return_state=True)\n",
        "    # Only use the last prediction.\n",
        "    predicted_logits = predicted_logits[:, -1, :]\n",
        "    predicted_logits = predicted_logits/self.temperature\n",
        "    # Apply the prediction mask: prevent \"[UNK]\" from being generated.\n",
        "    predicted_logits = predicted_logits + self.prediction_mask\n",
        "\n",
        "    # Sample the output logits to generate token IDs.\n",
        "    predicted_ids = tf.random.categorical(predicted_logits, num_samples=1)\n",
        "    predicted_ids = tf.squeeze(predicted_ids, axis=-1)\n",
        "\n",
        "    # Convert from token ids to characters\n",
        "    predicted_chars = self.chars_from_ids(predicted_ids)\n",
        "\n",
        "    # Return the characters and model state.\n",
        "    return predicted_chars, mStates,cStates"
      ],
      "execution_count": null,
      "outputs": []
    },
    {
      "cell_type": "code",
      "metadata": {
        "id": "LPPLoa9njefR",
        "colab": {
          "base_uri": "https://localhost:8080/"
        },
        "outputId": "793e3f8f-0056-42e8-bbf7-c85333e5669e"
      },
      "source": [
        "one_step_model = OneStep(model, chars_from_ids, ids_from_chars)\n",
        "start = time.time()\n",
        "mStates,cStates = None,None\n",
        "next_char = tf.constant(['م'])\n",
        "result = [next_char]\n",
        "\n",
        "for n in range(250-len(next_char)):\n",
        "  next_char, mStates,cStates = one_step_model.generate_one_step(next_char, states=[mStates,cStates])\n",
        "  result.append(next_char)\n",
        "\n",
        "result = tf.strings.join(result)\n",
        "end = time.time()\n",
        "print(result[0].numpy().decode('utf-8'), '\\n\\n' + '_'*80)\n",
        "print('\\nRun time:', end - start)"
      ],
      "execution_count": null,
      "outputs": [
        {
          "output_type": "stream",
          "text": [
            "می بر سر افسر نهی\n",
            "چه گویید کز رنج و زندان بود\tوزان جایگه بر تواناترست\n",
            "کسی کاو به فرمان ما بشکنید\tز پیوند خورشید روی هوایش بود\n",
            "به پیش اندر آید گرفته رهی\tازو چون بر ماه باشد ستم\n",
            "چو شد روز روشن روان و خرد\tهمی مهتر از گردش روز زرد\n",
            "چنین گفت کاین روز فرخ ن \n",
            "\n",
            "________________________________________________________________________________\n",
            "\n",
            "Run time: 1.2867467403411865\n"
          ],
          "name": "stdout"
        }
      ]
    },
    {
      "cell_type": "markdown",
      "metadata": {
        "id": "hQw6UyjazZRg"
      },
      "source": [
        "Accuracy of test set"
      ]
    },
    {
      "cell_type": "code",
      "metadata": {
        "id": "4dwgaIcDzdAJ",
        "colab": {
          "base_uri": "https://localhost:8080/",
          "height": 283
        },
        "outputId": "799f7991-1ecd-4ff3-fcc0-f7bd10b274d5"
      },
      "source": [
        "test_slices = np.array([text[:seq_length] for text in test_ids])\n",
        "X_test = []\n",
        "Y_test = []\n",
        "for row in test_slices:\n",
        "  x,y = split_input_target(row)\n",
        "  X_test.append(x)\n",
        "  Y_test.append(y)\n",
        "X_test = np.array(X_test)\n",
        "Y_test = np.array(Y_test)\n",
        "predictions = np.array(model.predict(X_test))\n",
        "sampled_indices = [tf.random.categorical(predictions[i], num_samples=1) for i in range(len(predictions))]\n",
        "sampled_indices = [tf.squeeze(sampled_indices[i], axis=-1).numpy() for i in range(len(predictions))]\n",
        "sampled_indices = np.array(sampled_indices)\n",
        "import seaborn as sn\n",
        "import pandas as pd\n",
        "import matplotlib.pyplot as plt\n",
        "from sklearn.metrics import confusion_matrix\n",
        "from sklearn.metrics import accuracy_score\n",
        "conf = confusion_matrix(Y_test.ravel(), sampled_indices.ravel())\n",
        "print(\"Accuracy for test set: \", accuracy_score(Y_test.ravel(), sampled_indices.ravel()))\n",
        "plt.imshow(conf)\n",
        "plt.show()"
      ],
      "execution_count": null,
      "outputs": [
        {
          "output_type": "stream",
          "text": [
            "Accuracy for test set:  0.5756358768406962\n"
          ],
          "name": "stdout"
        },
        {
          "output_type": "display_data",
          "data": {
            "image/png": "[encoded data removed]",
            "text/plain": [
              "<Figure size 432x288 with 1 Axes>"
            ]
          },
          "metadata": {
            "tags": [],
            "needs_background": "light"
          }
        }
      ]
    },
    {
      "cell_type": "markdown",
      "metadata": {
        "id": "geYSSR3pzC5q"
      },
      "source": [
        "\n",
        "Prepare dataset for bleu\n",
        "\n"
      ]
    },
    {
      "cell_type": "code",
      "metadata": {
        "id": "Af5rtt0-qyWu"
      },
      "source": [
        "X_test_split = []\n",
        "Y_test_split = []\n",
        "for i in range(len(test_ids)):\n",
        "  text = text_from_ids(X_test[i]).numpy().decode('utf-8').replace(\"\\t\", \" \\t \").replace(\"\\n\", \" \\n \").split(\" \")\n",
        "  X_test_split.append(text)\n",
        "  text = text_from_ids(Y_test[i]).numpy().decode('utf-8').replace(\"\\t\", \" \\t \").replace(\"\\n\", \" \\n \").split(\" \")\n",
        "  Y_test_split.append(text)\n"
      ],
      "execution_count": null,
      "outputs": []
    },
    {
      "cell_type": "code",
      "metadata": {
        "id": "PiJZX7Rqp8kn"
      },
      "source": [
        "predicts = []\n",
        "\n",
        "for i,poem in enumerate(X_test_split):\n",
        "  next_char = tf.constant([poem[0]])\n",
        "  result = [next_char]\n",
        "  for n in range(seq_length-len(poem[0])):\n",
        "    next_char, mStates,cStates = one_step_model.generate_one_step(next_char, states=[mStates,cStates])\n",
        "    result.append(next_char)\n",
        "  \n",
        "  result = tf.strings.join(result)\n",
        "  result = result[0].numpy().decode('utf-8')\n",
        "  predicts.append(result)\n"
      ],
      "execution_count": null,
      "outputs": []
    },
    {
      "cell_type": "code",
      "metadata": {
        "colab": {
          "base_uri": "https://localhost:8080/"
        },
        "id": "_RgkBbGSnGqD",
        "outputId": "35991d29-b1a9-4f24-9885-4d5064b9f8af"
      },
      "source": [
        "print(predicts[2], '\\n\\n' + '_'*80)\n",
        "print(predicts[5].replace(\"\\t\",\"**\"), '\\n\\n' + '_'*80)\n",
        "print(predicts[43].replace(\"\\t\",\"**\"), '\\n\\n' + '_'*80)"
      ],
      "execution_count": null,
      "outputs": [
        {
          "output_type": "stream",
          "text": [
            "چوان\tبه در بر نهادند کار از گناه\n",
            "گزین کرد زان انجمن رستخیز\tبدان تا نباشد به دیدار خویش\n",
            "همان گیو و گودرز و چندی درنگ\tبه پیش سواران نهادند روی\n",
            "پس از دامن کوه بنهاد روی\tچو سندان ودهدام پیروز شور\n",
            "بپرسید بهرام زو هر چه بود\tکه نزدیک او مهتران سترگ\n",
            "برزم اند \n",
            "\n",
            "________________________________________________________________________________\n",
            "چو زیر**پی او شود با نیایش یکی تخت پای\n",
            "ندارند جان شاه را ساختند**ز بیداری اختر بیاراستند\n",
            "که بازی کنون کار مردان بود**ز بد روز بی‌ایشه و موبدند\n",
            "وگر تاج بیدار گردد درخت**زمین را به خون پدر بی‌پرست\n",
            "بیاورد بهرام و خود ریختن**نشستند با خاک بفتی من\n",
            "ازان پس بگفت \n",
            "\n",
            "________________________________________________________________________________\n",
            "چوی و هم کرده‌ام\n",
            "به پیش پدر شد پرستار شاه**پدر را بکردار توران سپاه\n",
            "چو بر تخت بنشست فرخ قباد**کلاه بزرگی به سر برنهاد\n",
            "همه دست بردست او را ببرد**به باد افره ایزدی چند مرد\n",
            "ببردند پس تاجها برنشست**برو گشت چون ماه پیچان کنند\n",
            "بدو گفت کای مرد بدبخت خوار**که فرد \n",
            "\n",
            "________________________________________________________________________________\n"
          ],
          "name": "stdout"
        }
      ]
    },
    {
      "cell_type": "code",
      "metadata": {
        "id": "UVT8TkzrunUe"
      },
      "source": [
        "predict_split = []\n",
        "for i in range(len(predicts)):\n",
        "  text = predicts[i].replace(\"\\t\", \" \\t \").replace(\"\\n\", \" \\n \").split(\" \")\n",
        "  predict_split.append(text)\n"
      ],
      "execution_count": null,
      "outputs": []
    },
    {
      "cell_type": "code",
      "metadata": {
        "id": "-NRFGxbZx-zN",
        "colab": {
          "base_uri": "https://localhost:8080/"
        },
        "outputId": "c68d827c-5e28-4325-88d9-81a751c537b7"
      },
      "source": [
        "import nltk\n",
        "bleu = 0\n",
        "for i in range(len(predict_split)):\n",
        "  hypothesis = predict_split[i][1:]\n",
        "  reference = Y_test_split[i][1:]\n",
        "  BLEUscore = nltk.translate.bleu_score.sentence_bleu([reference], hypothesis, weights = [1])\n",
        "  bleu += BLEUscore\n",
        "print(bleu/len(predict_split))"
      ],
      "execution_count": null,
      "outputs": [
        {
          "output_type": "stream",
          "text": [
            "0.2701648072568281\n"
          ],
          "name": "stdout"
        }
      ]
    }
  ]
}